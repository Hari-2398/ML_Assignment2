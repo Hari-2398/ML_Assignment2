{
 "cells": [
  {
   "cell_type": "code",
   "execution_count": 15,
   "id": "6dc1dbe5",
   "metadata": {},
   "outputs": [
    {
     "name": "stdout",
     "output_type": "stream",
     "text": [
      "* \r\n",
      "* * \r\n",
      "* * * \r\n",
      "* * * * \r\n",
      "* * * * * \r\n",
      "* * * * \r\n",
      "* * * \r\n",
      "* * \r\n",
      "* \r\n",
      "\r\n"
     ]
    }
   ],
   "source": [
    "rows = 5\n",
    "# rows = int(input('Enter the number of rows'))\n",
    "# outer loop\n",
    "for x in range(0,rows):\n",
    "    # nested loop\n",
    "    for y in range(0, x+1):\n",
    "        # display number\n",
    "        print(\"*\", end=' ')\n",
    "    # new line after each row\n",
    "    print(\"\\r\")\n",
    "for x in range(rows,0,-1):\n",
    "    for y in range(0,x-1):\n",
    "        print(\"*\",end =' ')\n",
    "    print(\"\\r\")\n"
   ]
  },
  {
   "cell_type": "code",
   "execution_count": 20,
   "id": "29458696",
   "metadata": {},
   "outputs": [
    {
     "name": "stdout",
     "output_type": "stream",
     "text": [
      "The odd indexes of my_list:\n",
      "20 40 60 80 100 "
     ]
    }
   ],
   "source": [
    "#To find odd indexes using looping\n",
    "print(\"The odd indexes of my_list:\")\n",
    "my_list = [10, 20, 30, 40, 50, 60, 70, 80, 90, 100]\n",
    "#By using list slicing [ Initial : End : IndexJump ]\n",
    "for x in my_list[1::2]:\n",
    "    print(x, end=\" \")"
   ]
  },
  {
   "cell_type": "code",
   "execution_count": 38,
   "id": "e2fe77cc",
   "metadata": {},
   "outputs": [
    {
     "name": "stdout",
     "output_type": "stream",
     "text": [
      "[23, 'Python', 23.98]\n",
      "The type of elements from the list\n",
      "[<class 'int'>, <class 'str'>, <class 'float'>]\n"
     ]
    }
   ],
   "source": [
    "x = [23, 'Python', 23.98]\n",
    "#To append the type of elements from given list\n",
    "out = []\n",
    "for output in range(len(x)):\n",
    "    out.append(type(x[output]))\n",
    "print(x)\n",
    "print(\"The type of elements from the list\")\n",
    "print(out)\n",
    "\n",
    "\n",
    "    "
   ]
  },
  {
   "cell_type": "code",
   "execution_count": 46,
   "id": "0d3ee277",
   "metadata": {},
   "outputs": [
    {
     "name": "stdout",
     "output_type": "stream",
     "text": [
      "[1, 2, 3, 4, 5]\n"
     ]
    }
   ],
   "source": [
    "Sample_List: [1,2,3,3,3,3,4,5]\n",
    "uniquelist = []\n",
    "def unqlist(Sample_List):\n",
    "    for x in Sample_List:\n",
    "        if x not in uniquelist:\n",
    "            uniquelist.append(x)\n",
    "    return uniquelist\n",
    "print(unqlist([1,2,3,3,3,3,4,5]))"
   ]
  },
  {
   "cell_type": "code",
   "execution_count": 49,
   "id": "4dc3ec71",
   "metadata": {},
   "outputs": [
    {
     "name": "stdout",
     "output_type": "stream",
     "text": [
      "The Input String: The quick Brow Fox\n",
      "No. of Upper-case characters: 3\n",
      "No. of lower-case characters: 12\n"
     ]
    }
   ],
   "source": [
    "def uplow(string):\n",
    "    ul={\"u_case\":0,\"l_case\":0}\n",
    "    for i in string:\n",
    "        if i.isupper():\n",
    "            ul[\"u_case\"]+=1\n",
    "        elif i.islower():\n",
    "            ul[\"l_case\"]+=1\n",
    "        else:\n",
    "            pass\n",
    "    print(\"The Input String:\",string)\n",
    "    print(\"No. of Upper-case characters:\",ul[\"u_case\"])\n",
    "    print(\"No. of lower-case characters:\",ul[\"l_case\"])\n",
    "\n",
    "uplow(\"The quick Brow Fox\")\n",
    "    "
   ]
  },
  {
   "cell_type": "code",
   "execution_count": null,
   "id": "623f781c",
   "metadata": {},
   "outputs": [],
   "source": []
  }
 ],
 "metadata": {
  "kernelspec": {
   "display_name": "Python 3 (ipykernel)",
   "language": "python",
   "name": "python3"
  },
  "language_info": {
   "codemirror_mode": {
    "name": "ipython",
    "version": 3
   },
   "file_extension": ".py",
   "mimetype": "text/x-python",
   "name": "python",
   "nbconvert_exporter": "python",
   "pygments_lexer": "ipython3",
   "version": "3.9.13"
  }
 },
 "nbformat": 4,
 "nbformat_minor": 5
}
